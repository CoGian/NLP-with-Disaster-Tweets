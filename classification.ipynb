{
  "nbformat": 4,
  "nbformat_minor": 0,
  "metadata": {
    "colab": {
      "name": "classification.ipynb",
      "provenance": [],
      "collapsed_sections": [],
      "toc_visible": true,
      "authorship_tag": "ABX9TyO3tcTuvJooRnCaEnPeVXkh",
      "include_colab_link": true
    },
    "kernelspec": {
      "name": "python3",
      "display_name": "Python 3"
    },
    "accelerator": "GPU"
  },
  "cells": [
    {
      "cell_type": "markdown",
      "metadata": {
        "id": "view-in-github",
        "colab_type": "text"
      },
      "source": [
        "<a href=\"https://colab.research.google.com/github/CoGian/NLP-with-Disaster-Tweets/blob/master/classification.ipynb\" target=\"_parent\"><img src=\"https://colab.research.google.com/assets/colab-badge.svg\" alt=\"Open In Colab\"/></a>"
      ]
    },
    {
      "cell_type": "markdown",
      "metadata": {
        "id": "Z2rrKxOum61a",
        "colab_type": "text"
      },
      "source": [
        "# Load Datasets"
      ]
    },
    {
      "cell_type": "code",
      "metadata": {
        "id": "2_ff2l-_meFn",
        "colab_type": "code",
        "outputId": "54d9f00d-986d-435b-e2e5-1ed791e4b6ac",
        "colab": {
          "base_uri": "https://localhost:8080/",
          "height": 34
        }
      },
      "source": [
        "from google.colab import drive\n",
        "drive.mount('/content/drive')"
      ],
      "execution_count": 1,
      "outputs": [
        {
          "output_type": "stream",
          "text": [
            "Drive already mounted at /content/drive; to attempt to forcibly remount, call drive.mount(\"/content/drive\", force_remount=True).\n"
          ],
          "name": "stdout"
        }
      ]
    },
    {
      "cell_type": "code",
      "metadata": {
        "id": "AGFSecSNnCdF",
        "colab_type": "code",
        "colab": {}
      },
      "source": [
        "import numpy as np \n",
        "import pandas as pd\n",
        "import tensorflow as tf \n",
        "import random\n",
        "import pickle \n",
        "import gc\n",
        "import os\n",
        "from sklearn.model_selection import train_test_split\n",
        "import matplotlib.pyplot as plt\n",
        "import sys"
      ],
      "execution_count": 0,
      "outputs": []
    },
    {
      "cell_type": "code",
      "metadata": {
        "id": "RldzW6DDnLbk",
        "colab_type": "code",
        "colab": {}
      },
      "source": [
        "BATCH_SIZE = 32\n",
        "MAX_LEN = 30 \n",
        "EPOCHS = 100\n",
        "NUM_MODELS = 4"
      ],
      "execution_count": 0,
      "outputs": []
    },
    {
      "cell_type": "code",
      "metadata": {
        "id": "cdYF7qNaozYO",
        "colab_type": "code",
        "colab": {}
      },
      "source": [
        "TARGET_COLUMN = 'target'\n",
        "LOCATION_COLUMN = 'location'\n",
        "KEYWORD_COLUMN = 'keyword'\n",
        "METADADATA_COLUMNS = [LOCATION_COLUMN] + [KEYWORD_COLUMN]\n",
        "TEXT = 'text'\n",
        "\n",
        "TRAIN_DATASET_PATH = '/content/drive/My Drive/NLP with Disaster Tweets/data/train_cleared.csv'\n",
        "TEST_DATASET_PATH = '/content/drive/My Drive/NLP with Disaster Tweets/data/test_cleared.csv'\n",
        "TEST_DATASET_Y_PATH = '/content/drive/My Drive/NLP with Disaster Tweets/data/perfect-score.csv'\n",
        "GLOVE_PATH = \"/content/drive/My Drive/Glove/glove.840B.300d.pkl\"\n",
        "CRAWL_PATH = \"/content/drive/My Drive/Crawl/crawl-300d-2M.pkl\""
      ],
      "execution_count": 0,
      "outputs": []
    },
    {
      "cell_type": "code",
      "metadata": {
        "id": "XPgeS2LZnXZJ",
        "colab_type": "code",
        "colab": {}
      },
      "source": [
        "train_df = pd.read_csv(TRAIN_DATASET_PATH)\n",
        "test_df =  pd.read_csv(TEST_DATASET_PATH)\n",
        "y_test_df = pd.read_csv(TEST_DATASET_Y_PATH)"
      ],
      "execution_count": 0,
      "outputs": []
    },
    {
      "cell_type": "code",
      "metadata": {
        "id": "6ovcWymlfCqT",
        "colab_type": "code",
        "colab": {}
      },
      "source": [
        "train_df , val_df = train_test_split(train_df,test_size = 0.15,random_state = 13)"
      ],
      "execution_count": 0,
      "outputs": []
    },
    {
      "cell_type": "markdown",
      "metadata": {
        "id": "cLJ7U1cnbwM-",
        "colab_type": "text"
      },
      "source": [
        "# Prepare Data for training"
      ]
    },
    {
      "cell_type": "markdown",
      "metadata": {
        "id": "l2WowDp-b_JE",
        "colab_type": "text"
      },
      "source": [
        "## Split Dataset"
      ]
    },
    {
      "cell_type": "code",
      "metadata": {
        "id": "xbEMhu07nuoG",
        "colab_type": "code",
        "colab": {}
      },
      "source": [
        "x_train = train_df[TEXT].astype(str)\n",
        "y_train = train_df[TARGET_COLUMN].astype(int).values\n",
        "\n",
        "x_val = val_df[TEXT].astype(str)\n",
        "y_val = val_df[TARGET_COLUMN].astype(int).values\n",
        "\n",
        "x_test = test_df[TEXT].astype(str)\n",
        "y_test = y_test_df[TARGET_COLUMN].astype(int).values"
      ],
      "execution_count": 0,
      "outputs": []
    },
    {
      "cell_type": "markdown",
      "metadata": {
        "id": "d3vy11Ek2OFD",
        "colab_type": "text"
      },
      "source": [
        "## Create and Pad Sequences"
      ]
    },
    {
      "cell_type": "code",
      "metadata": {
        "id": "5eD66PDzb0Qu",
        "colab_type": "code",
        "colab": {}
      },
      "source": [
        "#create tokenizer for our data\n",
        "tokenizer = tf.keras.preprocessing.text.Tokenizer(lower=False)\n",
        "tokenizer.fit_on_texts(list(x_train) + list(x_val) + list(x_test) )"
      ],
      "execution_count": 0,
      "outputs": []
    },
    {
      "cell_type": "code",
      "metadata": {
        "id": "tk7gH_lEb138",
        "colab_type": "code",
        "colab": {}
      },
      "source": [
        "#convert text data to numerical indexes\n",
        "x_train = tokenizer.texts_to_sequences(x_train)\n",
        "x_val = tokenizer.texts_to_sequences(x_val)\n",
        "x_test = tokenizer.texts_to_sequences(x_test)\n",
        "\n",
        "\n",
        "#pad data up to MAX_LEN (note that we truncate if there are more than MAX_LEN tokens)\n",
        "x_train = tf.keras.preprocessing.sequence.pad_sequences(x_train, maxlen=MAX_LEN)\n",
        "x_val = tf.keras.preprocessing.sequence.pad_sequences(x_val, maxlen=MAX_LEN)\n",
        "x_test = tf.keras.preprocessing.sequence.pad_sequences(x_test, maxlen=MAX_LEN)"
      ],
      "execution_count": 0,
      "outputs": []
    },
    {
      "cell_type": "markdown",
      "metadata": {
        "id": "gbkgvw601n8y",
        "colab_type": "text"
      },
      "source": [
        "## Feed train set to tf.Dataset"
      ]
    },
    {
      "cell_type": "code",
      "metadata": {
        "id": "GjuXh3uK3gQP",
        "colab_type": "code",
        "colab": {}
      },
      "source": [
        "train_dataset = tf.data.Dataset.from_tensor_slices((x_train,{\"target\": y_train}))\n",
        "train_dataset = train_dataset.shuffle(len(train_df)).batch(BATCH_SIZE)"
      ],
      "execution_count": 0,
      "outputs": []
    },
    {
      "cell_type": "markdown",
      "metadata": {
        "id": "n9CfbEXu3xj2",
        "colab_type": "text"
      },
      "source": [
        "## Feed validation set to tf.Dataset"
      ]
    },
    {
      "cell_type": "code",
      "metadata": {
        "id": "tOOti8uy31QZ",
        "colab_type": "code",
        "colab": {}
      },
      "source": [
        "validation_dataset = tf.data.Dataset.from_tensor_slices((x_val,{\"target\": y_val}))\n",
        "validation_dataset = validation_dataset.shuffle(len(val_df)).batch(BATCH_SIZE)"
      ],
      "execution_count": 0,
      "outputs": []
    },
    {
      "cell_type": "markdown",
      "metadata": {
        "id": "xA598ABT4IQe",
        "colab_type": "text"
      },
      "source": [
        "## Feed test set to tf.Dataset"
      ]
    },
    {
      "cell_type": "code",
      "metadata": {
        "id": "FD3eCyHW4O7_",
        "colab_type": "code",
        "colab": {}
      },
      "source": [
        "test_dataset = tf.data.Dataset.from_tensor_slices((x_test,{\"target\": y_test}))\n",
        "test_dataset = test_dataset.shuffle(len(test_df)).batch(BATCH_SIZE)"
      ],
      "execution_count": 0,
      "outputs": []
    },
    {
      "cell_type": "markdown",
      "metadata": {
        "id": "ahm1kahEb5Hy",
        "colab_type": "text"
      },
      "source": [
        "## Build embeddings matrix"
      ]
    },
    {
      "cell_type": "code",
      "metadata": {
        "id": "DiQ3J87xb3hY",
        "colab_type": "code",
        "colab": {}
      },
      "source": [
        "def load_embeddings(path):\n",
        "    with open(path,'rb') as f:\n",
        "        embedding_index = pickle.load(f)\n",
        "    return embedding_index\n",
        "\n",
        "def build_matrix(word_index, path):\n",
        "    embedding_index = load_embeddings(path)\n",
        "    embedding_matrix = np.zeros((len(word_index) + 1, 300))\n",
        "    unknown_words = []\n",
        "    \n",
        "    for word, i in word_index.items():\n",
        "        try:\n",
        "            embedding_matrix[i] = embedding_index[word]\n",
        "        except KeyError:\n",
        "            unknown_words.append(word)\n",
        "    return embedding_matrix, unknown_words "
      ],
      "execution_count": 0,
      "outputs": []
    },
    {
      "cell_type": "code",
      "metadata": {
        "id": "wkBpHdh1cGr7",
        "colab_type": "code",
        "outputId": "d2a7adee-2da6-4ce2-e7ec-8e3b225567ab",
        "colab": {
          "base_uri": "https://localhost:8080/",
          "height": 51
        }
      },
      "source": [
        "glove_embedding_matrix,unknown_words = build_matrix(tokenizer.word_index,GLOVE_PATH)\n",
        "print('n unknown words (glove): ', len(unknown_words))\n",
        "print('n known words (glove): ', len(glove_embedding_matrix))"
      ],
      "execution_count": 14,
      "outputs": [
        {
          "output_type": "stream",
          "text": [
            "n unknown words (glove):  5634\n",
            "n known words (glove):  27282\n"
          ],
          "name": "stdout"
        }
      ]
    },
    {
      "cell_type": "code",
      "metadata": {
        "id": "HKNT544TcHOJ",
        "colab_type": "code",
        "outputId": "9b48776d-4e53-4dd2-ddd2-487f4a460950",
        "colab": {
          "base_uri": "https://localhost:8080/",
          "height": 51
        }
      },
      "source": [
        "crawl_embedding_matrix,unknown_words = build_matrix(tokenizer.word_index,CRAWL_PATH)\n",
        "print('n unknown words (crawl): ', len(unknown_words))\n",
        "print('n known words (crawl): ', len(crawl_embedding_matrix))"
      ],
      "execution_count": 15,
      "outputs": [
        {
          "output_type": "stream",
          "text": [
            "n unknown words (crawl):  5689\n",
            "n known words (crawl):  27282\n"
          ],
          "name": "stdout"
        }
      ]
    },
    {
      "cell_type": "code",
      "metadata": {
        "id": "Drt2x4x6cKmH",
        "colab_type": "code",
        "outputId": "adfa3c08-8387-4c7f-91d5-649d7e4d6888",
        "colab": {
          "base_uri": "https://localhost:8080/",
          "height": 34
        }
      },
      "source": [
        "embedding_matrix = np.concatenate([glove_embedding_matrix, crawl_embedding_matrix], axis=-1)\n",
        "embedding_matrix.shape"
      ],
      "execution_count": 16,
      "outputs": [
        {
          "output_type": "execute_result",
          "data": {
            "text/plain": [
              "(27282, 600)"
            ]
          },
          "metadata": {
            "tags": []
          },
          "execution_count": 16
        }
      ]
    },
    {
      "cell_type": "code",
      "metadata": {
        "id": "Xwer9XsccMLh",
        "colab_type": "code",
        "colab": {
          "base_uri": "https://localhost:8080/",
          "height": 34
        },
        "outputId": "b43027f5-3b63-4cf1-fd21-66bd2b54862d"
      },
      "source": [
        "del crawl_embedding_matrix\n",
        "del glove_embedding_matrix\n",
        "gc.collect()"
      ],
      "execution_count": 17,
      "outputs": [
        {
          "output_type": "execute_result",
          "data": {
            "text/plain": [
              "0"
            ]
          },
          "metadata": {
            "tags": []
          },
          "execution_count": 17
        }
      ]
    },
    {
      "cell_type": "markdown",
      "metadata": {
        "id": "VO8fPnMJcnWU",
        "colab_type": "text"
      },
      "source": [
        "# Build Model "
      ]
    },
    {
      "cell_type": "code",
      "metadata": {
        "id": "RJghppr9pTwm",
        "colab_type": "code",
        "colab": {}
      },
      "source": [
        "def RNN(embedding_matrix):\n",
        "  words = tf.keras.Input(shape=(None,))\n",
        "  x = tf.keras.layers.Embedding(*embedding_matrix.shape, weights=[embedding_matrix], trainable=False)(words)\n",
        "  x = tf.keras.layers.Bidirectional(tf.keras.layers.LSTM(32,dropout=0.2,return_sequences=True))(x)\n",
        "  x = tf.keras.layers.Dense(8,activation='relu')(x)\n",
        "  x = tf.keras.layers.Dropout(0.8)(x)\n",
        "\n",
        "  result = tf.keras.layers.Dense(1, activation='sigmoid', name = 'target' )(x)\n",
        "    \n",
        "  model = tf.keras.Model(inputs=words, outputs=[result])\n",
        "  model.compile(loss='binary_crossentropy', optimizer='adam',metrics=['accuracy'])\n",
        "\n",
        "  return model"
      ],
      "execution_count": 0,
      "outputs": []
    },
    {
      "cell_type": "code",
      "metadata": {
        "id": "LEmibHI_zkYH",
        "colab_type": "code",
        "colab": {}
      },
      "source": [
        "def simple(embedding_matrix):\n",
        "   words = tf.keras.Input(shape=(None,))\n",
        "   x = tf.keras.layers.Embedding(*embedding_matrix.shape, weights=[embedding_matrix], trainable=False)(words)\n",
        "   x = tf.keras.layers.Dense(64,activation='relu')(x)\n",
        "   x = tf.keras.layers.Dense(32,activation='relu')(x)\n",
        "   x = tf.keras.layers.Dropout(0.5)(x)\n",
        "   \n",
        "   result = tf.keras.layers.Dense(1, activation='sigmoid', name = 'target' )(x)\n",
        "   \n",
        "   model = tf.keras.Model(inputs=words, outputs=[result])\n",
        "   model.compile(loss='binary_crossentropy', optimizer='adam',metrics=['accuracy'])\n",
        "   return model"
      ],
      "execution_count": 0,
      "outputs": []
    },
    {
      "cell_type": "markdown",
      "metadata": {
        "id": "q3wU087-ilAW",
        "colab_type": "text"
      },
      "source": [
        "# Fit the model "
      ]
    },
    {
      "cell_type": "code",
      "metadata": {
        "id": "-hcwWs4UpzAV",
        "colab_type": "code",
        "outputId": "30f262a6-6cc7-4bd0-cbc9-04a1fefa0be7",
        "colab": {
          "base_uri": "https://localhost:8080/",
          "height": 595
        }
      },
      "source": [
        "callback = tf.keras.callbacks.EarlyStopping(monitor='val_loss', patience=15 , restore_best_weights=True , verbose=1)\n",
        "model = RNN(embedding_matrix)\n",
        "history = model.fit(x = train_dataset,validation_data=validation_dataset , callbacks=[callback] , epochs = EPOCHS )"
      ],
      "execution_count": 25,
      "outputs": [
        {
          "output_type": "stream",
          "text": [
            "Epoch 1/100\n",
            "203/203 [==============================] - 5s 24ms/step - loss: 0.5997 - accuracy: 0.7011 - val_loss: 0.4805 - val_accuracy: 0.8102\n",
            "Epoch 2/100\n",
            "203/203 [==============================] - 4s 20ms/step - loss: 0.5365 - accuracy: 0.7558 - val_loss: 0.4420 - val_accuracy: 0.8100\n",
            "Epoch 3/100\n",
            "203/203 [==============================] - 4s 22ms/step - loss: 0.5144 - accuracy: 0.7660 - val_loss: 0.4364 - val_accuracy: 0.8177\n",
            "Epoch 4/100\n",
            "203/203 [==============================] - 4s 19ms/step - loss: 0.4962 - accuracy: 0.7727 - val_loss: 0.4330 - val_accuracy: 0.8117\n",
            "Epoch 5/100\n",
            "203/203 [==============================] - 4s 19ms/step - loss: 0.4795 - accuracy: 0.7799 - val_loss: 0.4477 - val_accuracy: 0.8209\n",
            "Epoch 6/100\n",
            "203/203 [==============================] - 4s 21ms/step - loss: 0.4650 - accuracy: 0.7869 - val_loss: 0.4277 - val_accuracy: 0.8159\n",
            "Epoch 7/100\n",
            "203/203 [==============================] - 4s 20ms/step - loss: 0.4529 - accuracy: 0.7910 - val_loss: 0.4536 - val_accuracy: 0.8172\n",
            "Epoch 8/100\n",
            "203/203 [==============================] - 4s 20ms/step - loss: 0.4372 - accuracy: 0.8014 - val_loss: 0.4295 - val_accuracy: 0.8107\n",
            "Epoch 9/100\n",
            "203/203 [==============================] - 4s 19ms/step - loss: 0.4265 - accuracy: 0.8053 - val_loss: 0.4434 - val_accuracy: 0.8140\n",
            "Epoch 10/100\n",
            "203/203 [==============================] - 4s 19ms/step - loss: 0.4162 - accuracy: 0.8091 - val_loss: 0.4629 - val_accuracy: 0.8146\n",
            "Epoch 11/100\n",
            "203/203 [==============================] - 4s 20ms/step - loss: 0.4032 - accuracy: 0.8179 - val_loss: 0.4830 - val_accuracy: 0.8117\n",
            "Epoch 12/100\n",
            "203/203 [==============================] - 4s 19ms/step - loss: 0.3938 - accuracy: 0.8231 - val_loss: 0.5577 - val_accuracy: 0.8004\n",
            "Epoch 13/100\n",
            "203/203 [==============================] - 4s 20ms/step - loss: 0.3857 - accuracy: 0.8262 - val_loss: 0.5286 - val_accuracy: 0.8068\n",
            "Epoch 14/100\n",
            "203/203 [==============================] - 4s 20ms/step - loss: 0.3752 - accuracy: 0.8323 - val_loss: 0.5905 - val_accuracy: 0.8092\n",
            "Epoch 15/100\n",
            "203/203 [==============================] - 4s 19ms/step - loss: 0.3677 - accuracy: 0.8349 - val_loss: 0.5777 - val_accuracy: 0.8056\n",
            "Epoch 16/100\n",
            "203/203 [==============================] - ETA: 0s - loss: 0.3633 - accuracy: 0.8386Restoring model weights from the end of the best epoch.\n",
            "203/203 [==============================] - 4s 21ms/step - loss: 0.3633 - accuracy: 0.8386 - val_loss: 0.5952 - val_accuracy: 0.7991\n",
            "Epoch 00016: early stopping\n"
          ],
          "name": "stdout"
        }
      ]
    },
    {
      "cell_type": "code",
      "metadata": {
        "id": "Cef1TJbKq7_N",
        "colab_type": "code",
        "outputId": "75c2d972-9629-42e8-f093-0dd2f0862651",
        "colab": {
          "base_uri": "https://localhost:8080/",
          "height": 51
        }
      },
      "source": [
        "model.evaluate(x= test_dataset)"
      ],
      "execution_count": 26,
      "outputs": [
        {
          "output_type": "stream",
          "text": [
            "102/102 [==============================] - 1s 9ms/step - loss: 0.4386 - accuracy: 0.8130\n"
          ],
          "name": "stdout"
        },
        {
          "output_type": "execute_result",
          "data": {
            "text/plain": [
              "[0.4386068880558014, 0.8130043148994446]"
            ]
          },
          "metadata": {
            "tags": []
          },
          "execution_count": 26
        }
      ]
    },
    {
      "cell_type": "code",
      "metadata": {
        "id": "fHCc6DNtoCIW",
        "colab_type": "code",
        "outputId": "ae38e7be-45a0-4609-f278-72596de489c4",
        "colab": {
          "base_uri": "https://localhost:8080/",
          "height": 573
        }
      },
      "source": [
        "# summarize history for accuracy\n",
        "plt.plot(history.history['accuracy'])\n",
        "plt.plot(history.history['val_accuracy'])\n",
        "plt.title('model accuracy')\n",
        "plt.ylabel('accuracy')\n",
        "plt.xlabel('epoch')\n",
        "plt.legend(['train', 'val'], loc='upper left')\n",
        "plt.show()\n",
        "# summarize history for loss\n",
        "plt.plot(history.history['loss'])\n",
        "plt.plot(history.history['val_loss'])\n",
        "plt.title('model loss')\n",
        "plt.ylabel('loss')\n",
        "plt.xlabel('epoch')\n",
        "plt.legend(['train', 'val'], loc='upper left')\n",
        "plt.show()"
      ],
      "execution_count": 23,
      "outputs": [
        {
          "output_type": "display_data",
          "data": {
            "image/png": "[encoded data removed]",
            "text/plain": [
              "<Figure size 432x288 with 1 Axes>"
            ]
          },
          "metadata": {
            "tags": [],
            "needs_background": "light"
          }
        },
        {
          "output_type": "display_data",
          "data": {
            "image/png": "[encoded data removed]",
            "text/plain": [
              "<Figure size 432x288 with 1 Axes>"
            ]
          },
          "metadata": {
            "tags": [],
            "needs_background": "light"
          }
        }
      ]
    },
    {
      "cell_type": "code",
      "metadata": {
        "id": "vPe_-a7jtkSp",
        "colab_type": "code",
        "colab": {}
      },
      "source": [
        "model.save_weights('/content/drive/My Drive/NLP with Disaster Tweets/data/checkpoints/my_checkpoint')"
      ],
      "execution_count": 0,
      "outputs": []
    },
    {
      "cell_type": "code",
      "metadata": {
        "id": "LSw_yA3y53JJ",
        "colab_type": "code",
        "colab": {}
      },
      "source": [
        ""
      ],
      "execution_count": 0,
      "outputs": []
    }
  ]
}