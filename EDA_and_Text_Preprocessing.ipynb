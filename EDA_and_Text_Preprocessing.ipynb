{
  "nbformat": 4,
  "nbformat_minor": 0,
  "metadata": {
    "colab": {
      "name": "EDA and Text Preprocessing.ipynb",
      "provenance": [],
      "collapsed_sections": [],
      "authorship_tag": "ABX9TyNF0DxmphYrEJqNKg1Ih/Wc",
      "include_colab_link": true
    },
    "kernelspec": {
      "name": "python3",
      "display_name": "Python 3"
    }
  },
  "cells": [
    {
      "cell_type": "markdown",
      "metadata": {
        "id": "view-in-github",
        "colab_type": "text"
      },
      "source": [
        "<a href=\"https://colab.research.google.com/github/CoGian/NLP-with-Disaster-Tweets/blob/master/EDA_and_Text_Preprocessing.ipynb\" target=\"_parent\"><img src=\"https://colab.research.google.com/assets/colab-badge.svg\" alt=\"Open In Colab\"/></a>"
      ]
    },
    {
      "cell_type": "code",
      "metadata": {
        "id": "Ci4NZEuwxpaF",
        "colab_type": "code",
        "colab": {
          "base_uri": "https://localhost:8080/",
          "height": 510
        },
        "outputId": "e6401817-4988-48ca-896a-e90cd138fb1c"
      },
      "source": [
        "from google.colab import drive\n",
        "import numpy as np \n",
        "import pandas as pd\n",
        "import seaborn as sns\n",
        "import matplotlib.pyplot as plt\n",
        "# import wordcloud\n",
        "from wordcloud import WordCloud\n",
        "# import NLTK mainly for stopwords\n",
        "import nltk\n",
        "from nltk.tokenize.treebank import TreebankWordTokenizer\n",
        "from nltk.tokenize import  word_tokenize\n",
        "nltk.download('punkt')\n",
        "nltk.download('stopwords')\n",
        "from nltk.corpus import stopwords\n",
        "from PIL import Image\n",
        "!pip install emoji\n",
        "import emoji\n",
        "from collections import Counter\n",
        "from itertools import chain\n",
        "import pickle\n",
        "import operator\n",
        "import string\n",
        "!pip install edm\n",
        "from edm import report\n",
        "import tensorflow as tf"
      ],
      "execution_count": 1,
      "outputs": [
        {
          "output_type": "stream",
          "text": [
            "/usr/local/lib/python3.6/dist-packages/statsmodels/tools/_testing.py:19: FutureWarning: pandas.util.testing is deprecated. Use the functions in the public API at pandas.testing instead.\n",
            "  import pandas.util.testing as tm\n"
          ],
          "name": "stderr"
        },
        {
          "output_type": "stream",
          "text": [
            "[nltk_data] Downloading package punkt to /root/nltk_data...\n",
            "[nltk_data]   Unzipping tokenizers/punkt.zip.\n",
            "[nltk_data] Downloading package stopwords to /root/nltk_data...\n",
            "[nltk_data]   Unzipping corpora/stopwords.zip.\n",
            "Collecting emoji\n",
            "\u001b[?25l  Downloading https://files.pythonhosted.org/packages/40/8d/521be7f0091fe0f2ae690cc044faf43e3445e0ff33c574eae752dd7e39fa/emoji-0.5.4.tar.gz (43kB)\n",
            "\u001b[K     |████████████████████████████████| 51kB 2.0MB/s \n",
            "\u001b[?25hBuilding wheels for collected packages: emoji\n",
            "  Building wheel for emoji (setup.py) ... \u001b[?25l\u001b[?25hdone\n",
            "  Created wheel for emoji: filename=emoji-0.5.4-cp36-none-any.whl size=42176 sha256=623c99981b2afb266076a535e5a1bb4d6b86199fcc67523c47d779bce8411a86\n",
            "  Stored in directory: /root/.cache/pip/wheels/2a/a9/0a/4f8e8cce8074232aba240caca3fade315bb49fac68808d1a9c\n",
            "Successfully built emoji\n",
            "Installing collected packages: emoji\n",
            "Successfully installed emoji-0.5.4\n",
            "Collecting edm\n",
            "  Downloading https://files.pythonhosted.org/packages/42/4b/ab24f5d58fa155a9cb9388681ec90fed70bc1ff4efea6b3964827354f601/edm-0.0.4.tar.gz\n",
            "Requirement already satisfied: numpy in /usr/local/lib/python3.6/dist-packages (from edm) (1.18.3)\n",
            "Building wheels for collected packages: edm\n",
            "  Building wheel for edm (setup.py) ... \u001b[?25l\u001b[?25hdone\n",
            "  Created wheel for edm: filename=edm-0.0.4-cp36-none-any.whl size=10639 sha256=49263178681df80b0076ae16c92df7989d8ba0295c97f2965b096c1ca293b8ca\n",
            "  Stored in directory: /root/.cache/pip/wheels/f5/9b/f6/778ef88e921a1c1ef7b9d04d1af501a7014d89e941c3301c56\n",
            "Successfully built edm\n",
            "Installing collected packages: edm\n",
            "Successfully installed edm-0.0.4\n"
          ],
          "name": "stdout"
        }
      ]
    },
    {
      "cell_type": "code",
      "metadata": {
        "id": "-w7x91Y7yBAT",
        "colab_type": "code",
        "colab": {
          "base_uri": "https://localhost:8080/",
          "height": 128
        },
        "outputId": "247a2ef7-6d4e-4a05-8609-01c148dca9fa"
      },
      "source": [
        "drive.mount('/content/drive')"
      ],
      "execution_count": 2,
      "outputs": [
        {
          "output_type": "stream",
          "text": [
            "Go to this URL in a browser: https://accounts.google.com/o/oauth2/auth?client_id=947318989803-6bn6qk8qdgf4n4g3pfee6491hc0brc4i.apps.googleusercontent.com&redirect_uri=urn%3aietf%3awg%3aoauth%3a2.0%3aoob&response_type=code&scope=email%20https%3a%2f%2fwww.googleapis.com%2fauth%2fdocs.test%20https%3a%2f%2fwww.googleapis.com%2fauth%2fdrive%20https%3a%2f%2fwww.googleapis.com%2fauth%2fdrive.photos.readonly%20https%3a%2f%2fwww.googleapis.com%2fauth%2fpeopleapi.readonly\n",
            "\n",
            "Enter your authorization code:\n",
            "··········\n",
            "Mounted at /content/drive\n"
          ],
          "name": "stdout"
        }
      ]
    },
    {
      "cell_type": "code",
      "metadata": {
        "id": "enyiFCmTyJmg",
        "colab_type": "code",
        "colab": {}
      },
      "source": [
        "TRAIN_DATASET_PATH = '/content/drive/My Drive/NLP with Disaster Tweets/train.csv'\n",
        "TEST_DATASET_PATH = '/content/drive/My Drive/NLP with Disaster Tweets/test.csv'\n",
        "GLOVE_EMBEDDING_PATH = '/content/drive/My Drive/Glove/glove.840B.300d.pkl'\n",
        "CRAWL_EMBEDDING_PATH = \"/content/drive/My Drive/Crawl/crawl-300d-2M.pkl\""
      ],
      "execution_count": 0,
      "outputs": []
    },
    {
      "cell_type": "code",
      "metadata": {
        "id": "mWWABzLlydtS",
        "colab_type": "code",
        "colab": {}
      },
      "source": [
        "train_df = pd.read_csv(TRAIN_DATASET_PATH)\n",
        "test_df =  pd.read_csv(TEST_DATASET_PATH)"
      ],
      "execution_count": 0,
      "outputs": []
    },
    {
      "cell_type": "markdown",
      "metadata": {
        "id": "Yb7IYSqCyw5T",
        "colab_type": "text"
      },
      "source": [
        "Define column names"
      ]
    },
    {
      "cell_type": "code",
      "metadata": {
        "id": "C7hCZfAUyzsz",
        "colab_type": "code",
        "colab": {}
      },
      "source": [
        "TARGET_COLUMN = 'target'\n",
        "LOCATION_COLUMN = 'location'\n",
        "KEYWORD_COLUMN = 'keyword'\n",
        "METADADATA_COLUMNS = [LOCATION_COLUMN] + [KEYWORD_COLUMN]\n",
        "TEXT = 'text'"
      ],
      "execution_count": 0,
      "outputs": []
    },
    {
      "cell_type": "markdown",
      "metadata": {
        "id": "v-vlQWvJzHAU",
        "colab_type": "text"
      },
      "source": [
        "# Exploratory Data Analysis"
      ]
    },
    {
      "cell_type": "markdown",
      "metadata": {
        "id": "HKHBAYC1zVEh",
        "colab_type": "text"
      },
      "source": [
        "## Understanding the Data scheme"
      ]
    },
    {
      "cell_type": "markdown",
      "metadata": {
        "id": "sNr2jX8MzfbM",
        "colab_type": "text"
      },
      "source": [
        "Print the first 5 samples"
      ]
    },
    {
      "cell_type": "code",
      "metadata": {
        "id": "qUgkITxzyeII",
        "colab_type": "code",
        "colab": {
          "base_uri": "https://localhost:8080/",
          "height": 198
        },
        "outputId": "dee4b325-e864-4c4c-8894-5cd9096abdfa"
      },
      "source": [
        "train_df.head()"
      ],
      "execution_count": 9,
      "outputs": [
        {
          "output_type": "execute_result",
          "data": {
            "text/html": [
              "<div>\n",
              "<style scoped>\n",
              "    .dataframe tbody tr th:only-of-type {\n",
              "        vertical-align: middle;\n",
              "    }\n",
              "\n",
              "    .dataframe tbody tr th {\n",
              "        vertical-align: top;\n",
              "    }\n",
              "\n",
              "    .dataframe thead th {\n",
              "        text-align: right;\n",
              "    }\n",
              "</style>\n",
              "<table border=\"1\" class=\"dataframe\">\n",
              "  <thead>\n",
              "    <tr style=\"text-align: right;\">\n",
              "      <th></th>\n",
              "      <th>id</th>\n",
              "      <th>keyword</th>\n",
              "      <th>location</th>\n",
              "      <th>text</th>\n",
              "      <th>target</th>\n",
              "    </tr>\n",
              "  </thead>\n",
              "  <tbody>\n",
              "    <tr>\n",
              "      <th>0</th>\n",
              "      <td>1</td>\n",
              "      <td>NaN</td>\n",
              "      <td>NaN</td>\n",
              "      <td>Our Deeds are the Reason of this #earthquake M...</td>\n",
              "      <td>1</td>\n",
              "    </tr>\n",
              "    <tr>\n",
              "      <th>1</th>\n",
              "      <td>4</td>\n",
              "      <td>NaN</td>\n",
              "      <td>NaN</td>\n",
              "      <td>Forest fire near La Ronge Sask. Canada</td>\n",
              "      <td>1</td>\n",
              "    </tr>\n",
              "    <tr>\n",
              "      <th>2</th>\n",
              "      <td>5</td>\n",
              "      <td>NaN</td>\n",
              "      <td>NaN</td>\n",
              "      <td>All residents asked to 'shelter in place' are ...</td>\n",
              "      <td>1</td>\n",
              "    </tr>\n",
              "    <tr>\n",
              "      <th>3</th>\n",
              "      <td>6</td>\n",
              "      <td>NaN</td>\n",
              "      <td>NaN</td>\n",
              "      <td>13,000 people receive #wildfires evacuation or...</td>\n",
              "      <td>1</td>\n",
              "    </tr>\n",
              "    <tr>\n",
              "      <th>4</th>\n",
              "      <td>7</td>\n",
              "      <td>NaN</td>\n",
              "      <td>NaN</td>\n",
              "      <td>Just got sent this photo from Ruby #Alaska as ...</td>\n",
              "      <td>1</td>\n",
              "    </tr>\n",
              "  </tbody>\n",
              "</table>\n",
              "</div>"
            ],
            "text/plain": [
              "   id keyword  ...                                               text target\n",
              "0   1     NaN  ...  Our Deeds are the Reason of this #earthquake M...      1\n",
              "1   4     NaN  ...             Forest fire near La Ronge Sask. Canada      1\n",
              "2   5     NaN  ...  All residents asked to 'shelter in place' are ...      1\n",
              "3   6     NaN  ...  13,000 people receive #wildfires evacuation or...      1\n",
              "4   7     NaN  ...  Just got sent this photo from Ruby #Alaska as ...      1\n",
              "\n",
              "[5 rows x 5 columns]"
            ]
          },
          "metadata": {
            "tags": []
          },
          "execution_count": 9
        }
      ]
    },
    {
      "cell_type": "code",
      "metadata": {
        "id": "f2OCy5Hbyl-P",
        "colab_type": "code",
        "colab": {
          "base_uri": "https://localhost:8080/",
          "height": 35
        },
        "outputId": "7a6d3b08-74b4-4cf9-ff0e-00568a7514e1"
      },
      "source": [
        "num_of_samples = len(train_df)\n",
        "print('Train size: {:d}'.format(num_of_samples))"
      ],
      "execution_count": 10,
      "outputs": [
        {
          "output_type": "stream",
          "text": [
            "Train size: 7613\n"
          ],
          "name": "stdout"
        }
      ]
    },
    {
      "cell_type": "code",
      "metadata": {
        "id": "IMkFnxKmyqJV",
        "colab_type": "code",
        "colab": {
          "base_uri": "https://localhost:8080/",
          "height": 72
        },
        "outputId": "a9738ae3-0790-42c3-cca3-80f2f0858bb1"
      },
      "source": [
        "# check for amount of missing(null) values in every column αnd print the precentage of them. \n",
        "null_columns=train_df.columns[train_df.isnull().any()]\n",
        "print((train_df[null_columns].isnull().sum() / num_of_samples )* 100)"
      ],
      "execution_count": 12,
      "outputs": [
        {
          "output_type": "stream",
          "text": [
            "keyword      0.801261\n",
            "location    33.272035\n",
            "dtype: float64\n"
          ],
          "name": "stdout"
        }
      ]
    },
    {
      "cell_type": "markdown",
      "metadata": {
        "id": "eMUZ_5Tq0MLH",
        "colab_type": "text"
      },
      "source": [
        "Check the frequency of lengths of training sentences"
      ]
    },
    {
      "cell_type": "code",
      "metadata": {
        "id": "gucx6UzRzoxe",
        "colab_type": "code",
        "colab": {
          "base_uri": "https://localhost:8080/",
          "height": 35
        },
        "outputId": "ef8197b4-bffb-4e12-c494-25c7ad4c0f67"
      },
      "source": [
        "# tokenize\n",
        "tokenizer = tf.keras.preprocessing.text.Tokenizer(lower=False)\n",
        "tokenizer.fit_on_texts(list(train_df[TEXT].astype(str)))\n",
        "x_train = tokenizer.texts_to_sequences(list(train_df[TEXT].astype(str)))\n",
        "\n",
        "# count lengths \n",
        "training_sentence_lengths = [len(tokens) for tokens in x_train]\n",
        "print(\"Max sentence length is %s\" % max(training_sentence_lengths))\n",
        "targets_n_lens = pd.DataFrame(data=train_df[TARGET_COLUMN],columns=[TARGET_COLUMN])\n",
        "targets_n_lens['lens'] = training_sentence_lengths"
      ],
      "execution_count": 13,
      "outputs": [
        {
          "output_type": "stream",
          "text": [
            "Max sentence length is 33\n"
          ],
          "name": "stdout"
        }
      ]
    },
    {
      "cell_type": "code",
      "metadata": {
        "id": "9auFGF3s0WXW",
        "colab_type": "code",
        "colab": {
          "base_uri": "https://localhost:8080/",
          "height": 295
        },
        "outputId": "2b643e94-021b-47fe-f91c-b1b179b5ea3c"
      },
      "source": [
        "#plot hist \n",
        "plt.hist(training_sentence_lengths, density=True, bins=10)  # arguments are passed to np.histogram\n",
        "plt.title(\"Histogram of lenghts of tweets\")\n",
        "plt.ylabel('Frequency')\n",
        "plt.xlabel('Lengths of training tweets')\n",
        "plt.show()"
      ],
      "execution_count": 14,
      "outputs": [
        {
          "output_type": "display_data",
          "data": {
            "image/png": "[encoded data removed]",
            "text/plain": [
              "<Figure size 432x288 with 1 Axes>"
            ]
          },
          "metadata": {
            "tags": [],
            "needs_background": "light"
          }
        }
      ]
    },
    {
      "cell_type": "code",
      "metadata": {
        "id": "hEXTOKjS0ime",
        "colab_type": "code",
        "colab": {
          "base_uri": "https://localhost:8080/",
          "height": 295
        },
        "outputId": "9c5bc430-9b15-4cec-c76b-7b94b8ab501a"
      },
      "source": [
        "plt.hist(targets_n_lens[targets_n_lens[TARGET_COLUMN] >= .5]['lens'].values, density=True, bins=10)  # arguments are passed to np.histogram\n",
        "plt.title(\"Histogram of lenghts of real-disaster tweets\")\n",
        "plt.ylabel('Frequency')\n",
        "plt.xlabel('Lengths of training real-disaster tweets');\n",
        "plt.show()"
      ],
      "execution_count": 16,
      "outputs": [
        {
          "output_type": "display_data",
          "data": {
            "image/png": "[encoded data removed]",
            "text/plain": [
              "<Figure size 432x288 with 1 Axes>"
            ]
          },
          "metadata": {
            "tags": [],
            "needs_background": "light"
          }
        }
      ]
    },
    {
      "cell_type": "code",
      "metadata": {
        "id": "N9Fe077b0oS1",
        "colab_type": "code",
        "colab": {
          "base_uri": "https://localhost:8080/",
          "height": 295
        },
        "outputId": "13f88dfe-86bb-4c8a-d1fd-74d4594bd7b9"
      },
      "source": [
        "plt.hist(targets_n_lens[targets_n_lens[TARGET_COLUMN] < .5]['lens'].values, density=True, bins=10)  # arguments are passed to np.histogram\n",
        "plt.title(\"Histogram of lenghts of fake-disaster tweets\")\n",
        "plt.ylabel('Frequency')\n",
        "plt.xlabel('Lengths of training fake-disaster tweets');\n",
        "plt.show()"
      ],
      "execution_count": 17,
      "outputs": [
        {
          "output_type": "display_data",
          "data": {
            "image/png": "[encoded data removed]",
            "text/plain": [
              "<Figure size 432x288 with 1 Axes>"
            ]
          },
          "metadata": {
            "tags": [],
            "needs_background": "light"
          }
        }
      ]
    },
    {
      "cell_type": "markdown",
      "metadata": {
        "id": "GRbcLXBT1VlK",
        "colab_type": "text"
      },
      "source": [
        "## Understanding the tweets with metadata"
      ]
    },
    {
      "cell_type": "code",
      "metadata": {
        "id": "zdgdXS9t1JQg",
        "colab_type": "code",
        "colab": {
          "base_uri": "https://localhost:8080/",
          "height": 72
        },
        "outputId": "89fd6fcf-17c0-4529-9fdb-70d19135d836"
      },
      "source": [
        "num_of_non_toxic_samples = int(train_df[train_df.target < 0.5][TARGET_COLUMN].count())\n",
        "num_of_toxic_samples = num_of_samples - num_of_non_toxic_samples\n",
        "\n",
        "print('Nummer of tweets: ',num_of_samples)\n",
        "print('Nummer of fake-disaster tweets: {:d} ,percentage: {:.2f}%'.format(num_of_non_toxic_samples , (num_of_non_toxic_samples/num_of_samples)*100)) \n",
        "print('Nummer of real-disaster tweets: {:d} ,percentage: {:.2f}%'.format(num_of_toxic_samples , (num_of_toxic_samples/num_of_samples)*100)) "
      ],
      "execution_count": 19,
      "outputs": [
        {
          "output_type": "stream",
          "text": [
            "Nummer of tweets:  7613\n",
            "Nummer of fake-disaster tweets: 4342 ,percentage: 57.03%\n",
            "Nummer of real-disaster tweets: 3271 ,percentage: 42.97%\n"
          ],
          "name": "stdout"
        }
      ]
    },
    {
      "cell_type": "markdown",
      "metadata": {
        "id": "F2NcPgv22aqh",
        "colab_type": "text"
      },
      "source": [
        "Let's drop the samples without metadata and calculate the previous stats"
      ]
    },
    {
      "cell_type": "code",
      "metadata": {
        "id": "XVAmpF381oOv",
        "colab_type": "code",
        "colab": {
          "base_uri": "https://localhost:8080/",
          "height": 781
        },
        "outputId": "3d48c042-75e1-4233-895f-333da413a271"
      },
      "source": [
        "!git"
      ],
      "execution_count": 22,
      "outputs": [
        {
          "output_type": "stream",
          "text": [
            "usage: git [--version] [--help] [-C <path>] [-c <name>=<value>]\n",
            "           [--exec-path[=<path>]] [--html-path] [--man-path] [--info-path]\n",
            "           [-p | --paginate | --no-pager] [--no-replace-objects] [--bare]\n",
            "           [--git-dir=<path>] [--work-tree=<path>] [--namespace=<name>]\n",
            "           <command> [<args>]\n",
            "\n",
            "These are common Git commands used in various situations:\n",
            "\n",
            "start a working area (see also: git help tutorial)\n",
            "   clone      Clone a repository into a new directory\n",
            "   init       Create an empty Git repository or reinitialize an existing one\n",
            "\n",
            "work on the current change (see also: git help everyday)\n",
            "   add        Add file contents to the index\n",
            "   mv         Move or rename a file, a directory, or a symlink\n",
            "   reset      Reset current HEAD to the specified state\n",
            "   rm         Remove files from the working tree and from the index\n",
            "\n",
            "examine the history and state (see also: git help revisions)\n",
            "   bisect     Use binary search to find the commit that introduced a bug\n",
            "   grep       Print lines matching a pattern\n",
            "   log        Show commit logs\n",
            "   show       Show various types of objects\n",
            "   status     Show the working tree status\n",
            "\n",
            "grow, mark and tweak your common history\n",
            "   branch     List, create, or delete branches\n",
            "   checkout   Switch branches or restore working tree files\n",
            "   commit     Record changes to the repository\n",
            "   diff       Show changes between commits, commit and working tree, etc\n",
            "   merge      Join two or more development histories together\n",
            "   rebase     Reapply commits on top of another base tip\n",
            "   tag        Create, list, delete or verify a tag object signed with GPG\n",
            "\n",
            "collaborate (see also: git help workflows)\n",
            "   fetch      Download objects and refs from another repository\n",
            "   pull       Fetch from and integrate with another repository or a local branch\n",
            "   push       Update remote refs along with associated objects\n",
            "\n",
            "'git help -a' and 'git help -g' list available subcommands and some\n",
            "concept guides. See 'git help <command>' or 'git help <concept>'\n",
            "to read about a specific subcommand or concept.\n"
          ],
          "name": "stdout"
        }
      ]
    },
    {
      "cell_type": "code",
      "metadata": {
        "id": "_z9PH0el3VMN",
        "colab_type": "code",
        "colab": {
          "base_uri": "https://localhost:8080/",
          "height": 35
        },
        "outputId": "fcc77887-f196-46fc-d6eb-c866cf2c0414"
      },
      "source": [
        "!ls"
      ],
      "execution_count": 23,
      "outputs": [
        {
          "output_type": "stream",
          "text": [
            "drive  sample_data\n"
          ],
          "name": "stdout"
        }
      ]
    },
    {
      "cell_type": "code",
      "metadata": {
        "id": "wIxQRkL03mKs",
        "colab_type": "code",
        "colab": {}
      },
      "source": [
        ""
      ],
      "execution_count": 0,
      "outputs": []
    }
  ]
}